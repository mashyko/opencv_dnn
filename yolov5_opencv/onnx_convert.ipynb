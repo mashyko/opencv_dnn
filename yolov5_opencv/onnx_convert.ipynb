{
  "nbformat": 4,
  "nbformat_minor": 0,
  "metadata": {
    "colab": {
      "name": "Convert_PyTorch_models.ipynb",
      "provenance": [],
      "collapsed_sections": []
    },
    "kernelspec": {
      "name": "python3",
      "display_name": "Python 3"
    },
    "language_info": {
      "name": "python"
    }
  },
  "cells": [
    {
      "cell_type": "markdown",
      "source": [
        "# CONVERT DEFAULT PYTORCH MODELS TO ONNX FORMAT\n",
        "Use this notebook to convert the out of the box PyTorch models to other formats."
      ],
      "metadata": {
        "id": "h0Z6pGDENfka"
      }
    },
    {
      "cell_type": "markdown",
      "source": [
        "## Clone Ultralytics/yolov5 Repository"
      ],
      "metadata": {
        "id": "zAM4YNS4M3iC"
      }
    },
    {
      "cell_type": "code",
      "execution_count": null,
      "metadata": {
        "id": "IZ34ujwgFs45"
      },
      "outputs": [],
      "source": [
        "!git clone https://github.com/ultralytics/yolov5  # clone\n",
        "%cd yolov5\n",
        "!pip install -r requirements.txt  # install\n",
        "!pip install -U nvidia-tensorrt --index-url https://pypi.ngc.nvidia.com  # (optional) install TensorRT"
      ]
    },
    {
      "cell_type": "code",
      "source": [
        "%cd models"
      ],
      "metadata": {
        "id": "LQKUmhxeGAcb"
      },
      "execution_count": null,
      "outputs": []
    },
    {
      "cell_type": "markdown",
      "source": [
        "## Download PyTorch Models"
      ],
      "metadata": {
        "id": "guS1HQ4EMzKI"
      }
    },
    {
      "cell_type": "code",
      "source": [
        "# Download .pt models\n",
        "!wget https://github.com/ultralytics/yolov5/releases/download/v6.1/yolov5l6.pt\n",
        "!wget https://github.com/ultralytics/yolov5/releases/download/v6.1/yolov5l.pt\n",
        "!wget https://github.com/ultralytics/yolov5/releases/download/v6.1/yolov5m.pt\n",
        "!wget https://github.com/ultralytics/yolov5/releases/download/v6.1/yolov5m6.pt\n",
        "!wget https://github.com/ultralytics/yolov5/releases/download/v6.1/yolov5s6.pt\n",
        "!wget https://github.com/ultralytics/yolov5/releases/download/v6.1/yolov5n6.pt\n",
        "!wget https://github.com/ultralytics/yolov5/releases/download/v6.1/yolov5n.pt\n",
        "!wget https://github.com/ultralytics/yolov5/releases/download/v6.1/yolov5x.pt\n",
        "!wget https://github.com/ultralytics/yolov5/releases/download/v6.1/yolov5x6.pt"
      ],
      "metadata": {
        "id": "QapdevoQObTg"
      },
      "execution_count": null,
      "outputs": []
    },
    {
      "cell_type": "code",
      "source": [
        "!ls"
      ],
      "metadata": {
        "id": "GFZqa0uyPGBW"
      },
      "execution_count": null,
      "outputs": []
    },
    {
      "cell_type": "code",
      "source": [
        "%cd .."
      ],
      "metadata": {
        "id": "ZK9h8yYTPfbX"
      },
      "execution_count": null,
      "outputs": []
    },
    {
      "cell_type": "markdown",
      "source": [
        "## Export to ONNX"
      ],
      "metadata": {
        "id": "zeAU7NDTNEZa"
      }
    },
    {
      "cell_type": "code",
      "source": [
        "!python export.py --weights models/yolov5s.pt --include onnx"
      ],
      "metadata": {
        "id": "DAtXngD6HSWX"
      },
      "execution_count": null,
      "outputs": []
    },
    {
      "cell_type": "code",
      "source": [
        "!python export.py --weights models/yolov5l.pt --include onnx"
      ],
      "metadata": {
        "id": "NMF79iFRPJej"
      },
      "execution_count": null,
      "outputs": []
    },
    {
      "cell_type": "code",
      "source": [
        "!python export.py --weights models/yolov5m.pt --include onnx"
      ],
      "metadata": {
        "id": "I_iRO0esPQKX"
      },
      "execution_count": null,
      "outputs": []
    },
    {
      "cell_type": "code",
      "source": [
        "!python export.py --weights models/yolov5n.pt --include onnx"
      ],
      "metadata": {
        "id": "bo8Q2q09PVYY"
      },
      "execution_count": null,
      "outputs": []
    },
    {
      "cell_type": "code",
      "source": [
        "!python export.py --weights models/yolov5x.pt --include onnx"
      ],
      "metadata": {
        "id": "hHbp7iA4PabW"
      },
      "execution_count": null,
      "outputs": []
    },
    {
      "cell_type": "code",
      "source": [
        "!python export.py --weights models/yolov5n6.pt --include onnx\n",
        "!python export.py --weights models/yolov5s6.pt --include onnx\n",
        "!python export.py --weights models/yolov5m6.pt --include onnx\n",
        "!python export.py --weights models/yolov5l6.pt --include onnx\n",
        "!python export.py --weights models/yolov5x6.pt --include onnx"
      ],
      "metadata": {
        "id": "OhIOniWoPi7H"
      },
      "execution_count": null,
      "outputs": []
    },
    {
      "cell_type": "code",
      "source": [
        "%cd models\n",
        "!ls"
      ],
      "metadata": {
        "colab": {
          "base_uri": "https://localhost:8080/"
        },
        "id": "8R0e7ZpM9JlR",
        "outputId": "7a4d612d-2986-4537-a978-687a01ee9799"
      },
      "execution_count": null,
      "outputs": [
        {
          "output_type": "stream",
          "name": "stdout",
          "text": [
            "/content/yolov5/models\n"
          ]
        }
      ]
    },
    {
      "cell_type": "markdown",
      "source": [
        "## Download the ONNX Models"
      ],
      "metadata": {
        "id": "CO79jn9CNIw4"
      }
    },
    {
      "cell_type": "code",
      "source": [
        "from google.colab import files"
      ],
      "metadata": {
        "id": "ITUKhgc2P4T6"
      },
      "execution_count": null,
      "outputs": []
    },
    {
      "cell_type": "code",
      "source": [
        "files.download('yolov5n.onnx')\n",
        "files.download('yolov5s.onnx')"
      ],
      "metadata": {
        "id": "qzfmCV5yRH_9"
      },
      "execution_count": null,
      "outputs": []
    }
  ]
}